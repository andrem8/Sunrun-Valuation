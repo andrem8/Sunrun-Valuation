{
 "cells": [
  {
   "cell_type": "code",
   "execution_count": 39,
   "metadata": {
    "collapsed": true
   },
   "outputs": [],
   "source": [
    "%matplotlib inline\n",
    "\n",
    "import pandas as pd\n",
    "import matplotlib.pyplot as plt\n",
    "import numpy as np"
   ]
  },
  {
   "cell_type": "code",
   "execution_count": 38,
   "metadata": {
    "collapsed": true
   },
   "outputs": [],
   "source": [
    "solar_data = pd.read_csv('Test system portfolio (1).csv')"
   ]
  },
  {
   "cell_type": "code",
   "execution_count": 40,
   "metadata": {
    "collapsed": false
   },
   "outputs": [
    {
     "data": {
      "text/html": [
       "<div>\n",
       "<table border=\"1\" class=\"dataframe\">\n",
       "  <thead>\n",
       "    <tr style=\"text-align: right;\">\n",
       "      <th></th>\n",
       "      <th>State</th>\n",
       "      <th>System Size (kW)</th>\n",
       "      <th>Estimated Year 1 Production (kWh)</th>\n",
       "    </tr>\n",
       "  </thead>\n",
       "  <tbody>\n",
       "    <tr>\n",
       "      <th>0</th>\n",
       "      <td>AZ</td>\n",
       "      <td>8.16</td>\n",
       "      <td>13242</td>\n",
       "    </tr>\n",
       "    <tr>\n",
       "      <th>1</th>\n",
       "      <td>AZ</td>\n",
       "      <td>6.48</td>\n",
       "      <td>9933</td>\n",
       "    </tr>\n",
       "    <tr>\n",
       "      <th>2</th>\n",
       "      <td>AZ</td>\n",
       "      <td>6.18</td>\n",
       "      <td>8805</td>\n",
       "    </tr>\n",
       "    <tr>\n",
       "      <th>3</th>\n",
       "      <td>AZ</td>\n",
       "      <td>7.12</td>\n",
       "      <td>11630</td>\n",
       "    </tr>\n",
       "    <tr>\n",
       "      <th>4</th>\n",
       "      <td>AZ</td>\n",
       "      <td>3.97</td>\n",
       "      <td>6619</td>\n",
       "    </tr>\n",
       "  </tbody>\n",
       "</table>\n",
       "</div>"
      ],
      "text/plain": [
       "  State  System Size (kW)  Estimated Year 1 Production (kWh)\n",
       "0    AZ              8.16                              13242\n",
       "1    AZ              6.48                               9933\n",
       "2    AZ              6.18                               8805\n",
       "3    AZ              7.12                              11630\n",
       "4    AZ              3.97                               6619"
      ]
     },
     "execution_count": 40,
     "metadata": {},
     "output_type": "execute_result"
    }
   ],
   "source": [
    "solar_data.head()"
   ]
  },
  {
   "cell_type": "code",
   "execution_count": 41,
   "metadata": {
    "collapsed": false
   },
   "outputs": [
    {
     "data": {
      "text/plain": [
       "<matplotlib.axes._subplots.AxesSubplot at 0x9c1de80>"
      ]
     },
     "execution_count": 41,
     "metadata": {},
     "output_type": "execute_result"
    },
    {
     "data": {
      "image/png": "[encoded data removed]",
      "text/plain": [
       "<matplotlib.figure.Figure at 0xb13a4a8>"
      ]
     },
     "metadata": {},
     "output_type": "display_data"
    }
   ],
   "source": [
    "\n",
    "#simple plot of solar system count\n",
    "system_counts = solar_data['State'].value_counts()\n",
    "system_counts.plot(kind='bar')"
   ]
  },
  {
   "cell_type": "code",
   "execution_count": 42,
   "metadata": {
    "collapsed": false
   },
   "outputs": [
    {
     "data": {
      "text/html": [
       "<div>\n",
       "<table border=\"1\" class=\"dataframe\">\n",
       "  <thead>\n",
       "    <tr style=\"text-align: right;\">\n",
       "      <th></th>\n",
       "      <th>System Size (kW)</th>\n",
       "      <th>Estimated Year 1 Production (kWh)</th>\n",
       "    </tr>\n",
       "    <tr>\n",
       "      <th>State</th>\n",
       "      <th></th>\n",
       "      <th></th>\n",
       "    </tr>\n",
       "  </thead>\n",
       "  <tbody>\n",
       "    <tr>\n",
       "      <th>AZ</th>\n",
       "      <td>317.75</td>\n",
       "      <td>488178</td>\n",
       "    </tr>\n",
       "    <tr>\n",
       "      <th>CA</th>\n",
       "      <td>2030.02</td>\n",
       "      <td>2949146</td>\n",
       "    </tr>\n",
       "    <tr>\n",
       "      <th>NJ</th>\n",
       "      <td>719.49</td>\n",
       "      <td>886761</td>\n",
       "    </tr>\n",
       "    <tr>\n",
       "      <th>NY</th>\n",
       "      <td>1474.07</td>\n",
       "      <td>1760111</td>\n",
       "    </tr>\n",
       "  </tbody>\n",
       "</table>\n",
       "</div>"
      ],
      "text/plain": [
       "       System Size (kW)  Estimated Year 1 Production (kWh)\n",
       "State                                                     \n",
       "AZ               317.75                             488178\n",
       "CA              2030.02                            2949146\n",
       "NJ               719.49                             886761\n",
       "NY              1474.07                            1760111"
      ]
     },
     "execution_count": 42,
     "metadata": {},
     "output_type": "execute_result"
    }
   ],
   "source": [
    "\n",
    "#use pandas to group the data\n",
    "state_sum = solar_data.groupby('State').sum()\n",
    "state_sum"
   ]
  },
  {
   "cell_type": "code",
   "execution_count": 402,
   "metadata": {
    "collapsed": false
   },
   "outputs": [
    {
     "name": "stdout",
     "output_type": "stream",
     "text": [
      "[ 397.1875]\n",
      "[ 3552.535]\n",
      "[ 899.3625]\n",
      "[ 2211.105]\n"
     ]
    },
    {
     "data": {
      "text/plain": [
       "array([ 7060190.])"
      ]
     },
     "execution_count": 402,
     "metadata": {},
     "output_type": "execute_result"
    }
   ],
   "source": [
    "\n",
    "#calculate incentive payment\n",
    "state_sum_size = state_sum.drop(['Estimated Year 1 Production (kWh)'], axis=1)\n",
    "state_sum_size\n",
    "\n",
    "State_sum__size_array = state_sum_size.as_matrix()\n",
    "\n",
    "AZ_Ini_Pay = 1.25\n",
    "CA_Ini_Pay = 1.75\n",
    "NY_Ini_Pay = 1.50\n",
    "NJ_Ini_Pay = 1.25\n",
    "\n",
    "AZ_Incentive = State_sum__size_array[0]*AZ_Ini_Pay\n",
    "print (AZ_Incentive)\n",
    "CA_Incentive = State_sum__size_array[1]*CA_Ini_Pay\n",
    "print (CA_Incentive)\n",
    "NJ_Incentive = State_sum__size_array[2]*NJ_Ini_Pay\n",
    "print (NJ_Incentive)\n",
    "NY_Incentive = State_sum__size_array[3]*NY_Ini_Pay\n",
    "print (NY_Incentive)\n",
    "Total_Init_Pay =(AZ_Incentive+CA_Incentive+NJ_Incentive+NY_Incentive)*1000\n",
    "Total_Init_Pay"
   ]
  },
  {
   "cell_type": "code",
   "execution_count": 356,
   "metadata": {
    "collapsed": false
   },
   "outputs": [
    {
     "name": "stdout",
     "output_type": "stream",
     "text": [
      "300\n"
     ]
    },
    {
     "data": {
      "text/plain": [
       "1625000"
      ]
     },
     "execution_count": 356,
     "metadata": {},
     "output_type": "execute_result"
    }
   ],
   "source": [
    "#per system cost\n",
    "system_counts_array = system_counts.as_matrix()\n",
    "CA = system_counts_array[0]\n",
    "NY = system_counts_array[1]\n",
    "NJ = system_counts_array[2]\n",
    "AZ = system_counts_array[3]\n",
    "Total_System = (CA+NY+NJ+AZ)*2500\n",
    "Total_System"
   ]
  },
  {
   "cell_type": "code",
   "execution_count": 424,
   "metadata": {
    "collapsed": false
   },
   "outputs": [
    {
     "name": "stdout",
     "output_type": "stream",
     "text": [
      "[ 1798.725]\n"
     ]
    },
    {
     "data": {
      "text/plain": [
       "array([ 11781392.5])"
      ]
     },
     "execution_count": 424,
     "metadata": {},
     "output_type": "execute_result"
    }
   ],
   "source": [
    "#calculate expenses at interconnection\n",
    "overhead = 500,000.00\n",
    "AZ_Inst = 2.25\n",
    "CA_Inst = 2.75\n",
    "NY_Inst = 2.50\n",
    "NJ_Inst = 2.50\n",
    "\n",
    "\n",
    " #Variable installation cost\n",
    "AZ_Install = State_sum__size_array[0]*AZ_Inst\n",
    "CA_Install = State_sum__size_array[1]*CA_Inst\n",
    "NJ_Install = State_sum__size_array[2]*NJ_Inst\n",
    "NY_Install = State_sum__size_array[3]*NY_Inst\n",
    "Total_Install =(AZ_Install+CA_Install+NJ_Install+NY_Install)*1000\n",
    "Total_Install"
   ]
  },
  {
   "cell_type": "code",
   "execution_count": 412,
   "metadata": {
    "collapsed": false
   },
   "outputs": [],
   "source": [
    "\n",
    "\n",
    "\n",
    "#change the rate here to change output, note to run the entire code block or it will not work\n",
    "rate = .029\n",
    "\n",
    "#clean the data, drop column\n",
    "state_sum_new = state_sum.drop(['System Size (kW)'], axis=1)\n",
    "state_sum_new\n",
    "\n",
    "#convert to array \n",
    "State_sum_array = state_sum_new.as_matrix()\n",
    "AZ = 0.100\n",
    "CA = 0.150\n",
    "NY = 0.140\n",
    "NJ = 0.120\n",
    "\n",
    "#calculate monthly payments\n",
    "AZ_Monthly = State_sum_array[0]*AZ\n",
    "CA_Monthly = State_sum_array[1]*CA\n",
    "NJ_Monthly = State_sum_array[2]*NJ\n",
    "NY_Monthly = State_sum_array[3]*NY\n",
    "Total = (AZ_Monthly+CA_Monthly+NJ_Monthly+NY_Monthly)/12\n",
    "Total_Monthly = Total[0]\n",
    "\n",
    "\n",
    "\n",
    "#this defines the iterable\n",
    "class Payments:\n",
    "    def __init__(self, n):\n",
    "        self.i = 0\n",
    "        self.n = n\n",
    "\n",
    "    def __iter__(self):\n",
    "        return self\n",
    "\n",
    "    def __next__(self):\n",
    "        if self.i < self.n:\n",
    "            i = self.i\n",
    "            self.i += 1\n",
    "            return i\n",
    "        else:\n",
    "            raise StopIteration()\n",
    "Total_Monthly_Payments = []\n",
    "p = Payments(21)\n",
    "for i in p:\n",
    "        Growth_Rate = Total_Monthly*(1+rate)**(i)\n",
    "        Total_Monthly_Payments.append(Growth_Rate)"
   ]
  },
  {
   "cell_type": "code",
   "execution_count": 421,
   "metadata": {
    "collapsed": false,
    "scrolled": true
   },
   "outputs": [
    {
     "data": {
      "text/plain": [
       "14117245.298016639"
      ]
     },
     "execution_count": 421,
     "metadata": {},
     "output_type": "execute_result"
    }
   ],
   "source": [
    "\n",
    "#This adds in multiples counts for the monthly values so we can discount monthly    \n",
    "Total_Payments = Total_Monthly_Payments[:]\n",
    "Total_Payments.extend(Total_Monthly_Payments*11)\n",
    "Total_Payments.sort()\n",
    "\n",
    "#check payment output\n",
    "#print (Total_Payments)\n",
    "#check count\n",
    "#print (len(Total_Payments))\n",
    "np.npv(0.00416666667,Total_Payments)\n",
    "\n"
   ]
  },
  {
   "cell_type": "code",
   "execution_count": 423,
   "metadata": {
    "collapsed": false
   },
   "outputs": [
    {
     "name": "stdout",
     "output_type": "stream",
     "text": [
      "4541.33\n"
     ]
    },
    {
     "data": {
      "text/plain": [
       "660834.91678393329"
      ]
     },
     "execution_count": 423,
     "metadata": {},
     "output_type": "execute_result"
    }
   ],
   "source": [
    "AZ_kW = State_sum__size_array[0]\n",
    "CA_kW = State_sum__size_array[1]\n",
    "NJ_kW = State_sum__size_array[2]\n",
    "NY_kW = State_sum__size_array[3]\n",
    "Totals = (AZ_kW+CA_kW+NJ_kW+NY_kW)\n",
    "Total_kW =Totals[0]\n",
    "\n",
    "#check for Total_kW accuracy\n",
    "#print (Total_kW)\n",
    "#Note that Python Indexes at Zero so payment starts inception\n",
    "#this calculates the growth rate (1+r)^n\n",
    "rate = 0.015\n",
    "Ongoing_expenses = [0]\n",
    "p = Payments(21)\n",
    "for i in p:\n",
    "        Growth_Rate_Exp = 10*Total_kW*(1+rate)**(i)\n",
    "        Ongoing_expenses.append(Growth_Rate_Exp)\n",
    "np.npv(0.05,Ongoing_expenses)"
   ]
  },
  {
   "cell_type": "code",
   "execution_count": 393,
   "metadata": {
    "collapsed": false
   },
   "outputs": [
    {
     "name": "stdout",
     "output_type": "stream",
     "text": [
      "21177435.303457618\n"
     ]
    }
   ],
   "source": [
    "#incentive payment at interconnection + total present value of cash flows\n",
    "PV = 14117245.303457618+7060190\n",
    "print (PV)"
   ]
  },
  {
   "cell_type": "code",
   "execution_count": 292,
   "metadata": {
    "collapsed": false
   },
   "outputs": [
    {
     "name": "stdout",
     "output_type": "stream",
     "text": [
      "13906392.5\n"
     ]
    }
   ],
   "source": [
    "#installation cost + origination cost + general overhead\n",
    "Cost=11781392.5 + 1625000 + 500000\n",
    "print (Cost)"
   ]
  },
  {
   "cell_type": "code",
   "execution_count": 390,
   "metadata": {
    "collapsed": false
   },
   "outputs": [
    {
     "name": "stdout",
     "output_type": "stream",
     "text": [
      "14567227.416783933\n"
     ]
    }
   ],
   "source": [
    "#total expense\n",
    "total_exp = 13906392.5 + 660834.91678393329\n",
    "print (total_exp)"
   ]
  },
  {
   "cell_type": "code",
   "execution_count": 391,
   "metadata": {
    "collapsed": false
   },
   "outputs": [
    {
     "name": "stdout",
     "output_type": "stream",
     "text": [
      "6610207.886673685\n"
     ]
    }
   ],
   "source": [
    "#net present value\n",
    "NPV = 21177435.303457618 - 14567227.416783933\n",
    "print (NPV)"
   ]
  }
 ],
 "metadata": {
  "anaconda-cloud": {},
  "kernelspec": {
   "display_name": "Python [default]",
   "language": "python",
   "name": "python3"
  },
  "language_info": {
   "codemirror_mode": {
    "name": "ipython",
    "version": 3
   },
   "file_extension": ".py",
   "mimetype": "text/x-python",
   "name": "python",
   "nbconvert_exporter": "python",
   "pygments_lexer": "ipython3",
   "version": "3.5.2"
  }
 },
 "nbformat": 4,
 "nbformat_minor": 1
}
